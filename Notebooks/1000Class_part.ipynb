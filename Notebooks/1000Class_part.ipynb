{
 "cells": [
  {
   "cell_type": "code",
   "execution_count": 1,
   "id": "cd2e3e49",
   "metadata": {},
   "outputs": [
    {
     "name": "stdout",
     "output_type": "stream",
     "text": [
      "Combo list loaded successfully.\n"
     ]
    }
   ],
   "source": [
    "import pickle\n",
    "\n",
    "# File path of the saved pickle\n",
    "file_path = r\"F:\\1.Image_List\\Flowers102_400\\combo_list.pickle\"\n",
    "\n",
    "# Load the data from the pickle file\n",
    "with open(file_path, 'rb') as file:\n",
    "    loaded_combo_list = pickle.load(file)\n",
    "\n",
    "print(\"Combo list loaded successfully.\")\n"
   ]
  },
  {
   "cell_type": "code",
   "execution_count": 55,
   "id": "865d8b1e",
   "metadata": {},
   "outputs": [],
   "source": [
    "from sklearn.preprocessing import LabelEncoder\n",
    "y = []\n",
    "for i in range(0,len(loaded_combo_list)):\n",
    "    y.append(i)\n",
    "categorical_labels = to_categorical(y)\n"
   ]
  },
  {
   "cell_type": "code",
   "execution_count": null,
   "id": "ea500b05",
   "metadata": {},
   "outputs": [],
   "source": []
  },
  {
   "cell_type": "code",
   "execution_count": 56,
   "id": "19232777",
   "metadata": {},
   "outputs": [],
   "source": [
    "from glob import glob\n",
    "k = 0\n",
    "train=[]\n",
    "tr_y=[]\n",
    "\n",
    "for i in loaded_combo_list[:360]:\n",
    "    x = glob(i+'/*')\n",
    "    train.append(x)\n",
    "    for j in x:\n",
    "        tr_y.append(categorical_labels[k])\n",
    "    k = k + 1\n",
    "    \n",
    "train = np.concatenate(train)\n",
    "\n",
    "k = 0\n",
    "val=[]\n",
    "va_y=[]\n",
    "\n",
    "for i in loaded_combo_list[360:]:\n",
    "    x = glob(i+'/*')\n",
    "    val.append(x)\n",
    "    for j in x:\n",
    "        va_y.append(categorical_labels[k])\n",
    "    k = k + 1\n",
    "val = np.concatenate(val)"
   ]
  },
  {
   "cell_type": "code",
   "execution_count": 66,
   "id": "77fb8233",
   "metadata": {},
   "outputs": [],
   "source": [
    "from tensorflow.keras.utils import Sequence\n",
    "from PIL import Image\n",
    "import os\n",
    "target_size = (224,224)\n",
    "\n",
    "def get_te(k , a) :\n",
    "    x = glob(k+'/*')\n",
    "    #print(\"..........................\")\n",
    "    #print(x)\n",
    "    #print(\"..........................\")\n",
    "    img = Image.open(k).resize(target_size)\n",
    "    if img.mode != 'RGB':\n",
    "        img = img.convert('RGB')\n",
    "    idata = np.array(img)\n",
    "    X_train = idata.astype('float32') / 255.\n",
    "    #print(\"..........................\")\n",
    "    #print(np.shape(X_train))\n",
    "    #print(\"..........................\")\n",
    "    return X_train\n",
    "\n",
    "def get_cat(k) :\n",
    "    return np.array(k)\n",
    "\n",
    "class My_Custom_Generator(Sequence) :\n",
    "  \n",
    "  def __init__(self, filename , labels, batch_size) :\n",
    "    self.filename = filename\n",
    "    self.labels = labels\n",
    "    self.batch_size = batch_size\n",
    "    \n",
    "    \n",
    "  def __len__(self) :\n",
    "    return (np.ceil(len(self.filename) / float(self.batch_size))).astype(np.int)\n",
    "  \n",
    "  \n",
    "  def __getitem__(self, idx) :\n",
    "    batch_x = self.filename[idx * self.batch_size : (idx+1) * self.batch_size]\n",
    "    batch_y = self.labels[idx * self.batch_size : (idx+1) * self.batch_size]\n",
    "    y_train = get_cat(batch_y)\n",
    "    i=0\n",
    "    return np.array([get_te(i,self.filename)for i in batch_x]), np.array( y_train )\n",
    "\n",
    "\n",
    "class My_Test_Generator(Sequence) :\n",
    "  \n",
    "  def __init__(self, filename , batch_size) :\n",
    "    self.filename = filename\n",
    "    self.batch_size = batch_size\n",
    "    \n",
    "    \n",
    "  def __len__(self) :\n",
    "    return (np.ceil(len(self.filename) / float(self.batch_size))).astype(np.int)\n",
    "  \n",
    "  \n",
    "  def __getitem__(self, idx) :\n",
    "    batch_x = self.filename[idx * self.batch_size : (idx+1) * self.batch_size]\n",
    "    i=0\n",
    "    return np.array([get_te(i,self.filename)for i in batch_x])\n",
    "\n",
    "batch_size = 100\n",
    "my_training_batch_generator = My_Custom_Generator(train, tr_y, batch_size)\n",
    "my_validation_batch_generator = My_Custom_Generator(val, va_y, batch_size)"
   ]
  },
  {
   "cell_type": "code",
   "execution_count": 51,
   "id": "f64ab0d7",
   "metadata": {},
   "outputs": [],
   "source": [
    "#batch_images, batch_labels = my_training_batch_generator.__getitem__(0)\n",
    "#batch_labels"
   ]
  },
  {
   "cell_type": "code",
   "execution_count": null,
   "id": "d77d1fbe",
   "metadata": {},
   "outputs": [],
   "source": []
  },
  {
   "cell_type": "code",
   "execution_count": null,
   "id": "6f9d6402",
   "metadata": {},
   "outputs": [
    {
     "name": "stderr",
     "output_type": "stream",
     "text": [
      "C:\\Users\\shaif\\AppData\\Local\\Temp\\ipykernel_2208\\3146873370.py:35: UserWarning: `Model.fit_generator` is deprecated and will be removed in a future version. Please use `Model.fit`, which supports generators.\n",
      "  model.fit_generator(generator=my_training_batch_generator, validation_data=my_validation_batch_generator, epochs=100)\n",
      "C:\\Users\\shaif\\AppData\\Local\\Temp\\ipykernel_2208\\2899005922.py:33: DeprecationWarning: `np.int` is a deprecated alias for the builtin `int`. To silence this warning, use `int` by itself. Doing this will not modify any behavior and is safe. When replacing `np.int`, you may wish to use e.g. `np.int64` or `np.int32` to specify the precision. If you wish to review your current use, check the release note link for additional information.\n",
      "Deprecated in NumPy 1.20; for more details and guidance: https://numpy.org/devdocs/release/1.20.0-notes.html#deprecations\n",
      "  return (np.ceil(len(self.filename) / float(self.batch_size))).astype(np.int)\n"
     ]
    },
    {
     "name": "stdout",
     "output_type": "stream",
     "text": [
      "Epoch 1/100\n",
      "  28/3972 [..............................] - ETA: 1:47:12 - loss: 6.9284 - accuracy: 0.0000e+00"
     ]
    }
   ],
   "source": [
    "from tensorflow.keras.optimizers import SGD\n",
    "from tensorflow.keras.callbacks import LearningRateScheduler\n",
    "\n",
    "import numpy as np\n",
    "from PIL import Image\n",
    "from sklearn.preprocessing import LabelEncoder, OneHotEncoder\n",
    "from tensorflow.keras.applications.resnet50 import ResNet50\n",
    "from tensorflow.keras.models import Model\n",
    "from tensorflow.keras.layers import Dense, GlobalAveragePooling2D\n",
    "from tensorflow.keras.optimizers import Adam\n",
    "\n",
    "\n",
    "# Load the pre-trained ResNet50 model (excluding the top layer)\n",
    "base_model = ResNet50(weights=None, include_top=False, input_shape=(224, 224 , 3))\n",
    "\n",
    "# Add a global average pooling layer\n",
    "x = base_model.output\n",
    "x = GlobalAveragePooling2D()(x)\n",
    "\n",
    "# Add a fully connected layer\n",
    "x = Dense(512, activation='relu')(x)\n",
    "\n",
    "# Add the output layer with the number of classes\n",
    "output = Dense(400, activation='softmax')(x)\n",
    "\n",
    "# Create the model\n",
    "model = Model(inputs=base_model.input, outputs=output)\n",
    "\n",
    "# Define the optimizer with SGD and momentum\n",
    "optimizer = SGD(lr=0.001, momentum=0.9)\n",
    "\n",
    "# Compile the model\n",
    "model.compile(optimizer=optimizer, loss='categorical_crossentropy', metrics=['accuracy'])\n",
    "\n",
    "model.fit_generator(generator=my_training_batch_generator, validation_data=my_validation_batch_generator, epochs=100)"
   ]
  },
  {
   "cell_type": "code",
   "execution_count": null,
   "id": "0ad0159a",
   "metadata": {},
   "outputs": [],
   "source": []
  },
  {
   "cell_type": "code",
   "execution_count": null,
   "id": "a65d88bf",
   "metadata": {},
   "outputs": [],
   "source": []
  },
  {
   "cell_type": "code",
   "execution_count": null,
   "id": "70fcb7a3",
   "metadata": {},
   "outputs": [],
   "source": []
  },
  {
   "cell_type": "code",
   "execution_count": 17,
   "id": "a7d03b10",
   "metadata": {},
   "outputs": [
    {
     "data": {
      "text/plain": [
       "(445349, 32, 32, 3)"
      ]
     },
     "execution_count": 17,
     "metadata": {},
     "output_type": "execute_result"
    }
   ],
   "source": [
    "np.shape(x_train)"
   ]
  },
  {
   "cell_type": "code",
   "execution_count": 18,
   "id": "63cc31fa",
   "metadata": {},
   "outputs": [],
   "source": []
  },
  {
   "cell_type": "code",
   "execution_count": null,
   "id": "c745a2af",
   "metadata": {},
   "outputs": [
    {
     "name": "stdout",
     "output_type": "stream",
     "text": [
      "Epoch 1/100\n",
      "5567/5567 [==============================] - 428s 76ms/step - loss: 4.9830 - accuracy: 0.0293 - val_loss: 11.0171 - val_accuracy: 0.0000e+00\n",
      "Epoch 2/100\n",
      "5567/5567 [==============================] - 410s 74ms/step - loss: 4.2783 - accuracy: 0.0526 - val_loss: 11.8687 - val_accuracy: 2.2454e-05\n",
      "Epoch 3/100\n",
      "5567/5567 [==============================] - 408s 73ms/step - loss: 3.7722 - accuracy: 0.0724 - val_loss: 13.0242 - val_accuracy: 0.0000e+00\n",
      "Epoch 4/100\n",
      "5567/5567 [==============================] - 409s 74ms/step - loss: 3.3515 - accuracy: 0.0913 - val_loss: 13.9015 - val_accuracy: 0.0000e+00\n",
      "Epoch 5/100\n",
      "5567/5567 [==============================] - 408s 73ms/step - loss: 3.0421 - accuracy: 0.1083 - val_loss: 14.4977 - val_accuracy: 0.0000e+00\n",
      "Epoch 6/100\n",
      "5567/5567 [==============================] - 467s 84ms/step - loss: 2.8128 - accuracy: 0.1210 - val_loss: 15.0699 - val_accuracy: 8.9817e-05\n",
      "Epoch 7/100\n",
      "5567/5567 [==============================] - 581s 104ms/step - loss: 2.6454 - accuracy: 0.1322 - val_loss: 15.2968 - val_accuracy: 2.0209e-04\n",
      "Epoch 8/100\n",
      "5567/5567 [==============================] - 580s 104ms/step - loss: 2.5127 - accuracy: 0.1441 - val_loss: 15.8780 - val_accuracy: 0.0000e+00\n",
      "Epoch 9/100\n",
      "5567/5567 [==============================] - 577s 104ms/step - loss: 2.3925 - accuracy: 0.1549 - val_loss: 16.5306 - val_accuracy: 1.0104e-04\n",
      "Epoch 10/100\n",
      "5567/5567 [==============================] - 555s 100ms/step - loss: 2.2923 - accuracy: 0.1654 - val_loss: 16.6849 - val_accuracy: 1.1227e-05\n",
      "Epoch 11/100\n",
      "5567/5567 [==============================] - 384s 69ms/step - loss: 2.1970 - accuracy: 0.1761 - val_loss: 17.1147 - val_accuracy: 1.0104e-04\n",
      "Epoch 12/100\n",
      " 170/5567 [..............................] - ETA: 5:43 - loss: 2.0578 - accuracy: 0.1983"
     ]
    }
   ],
   "source": []
  },
  {
   "cell_type": "code",
   "execution_count": null,
   "id": "99abb31f",
   "metadata": {},
   "outputs": [],
   "source": []
  },
  {
   "cell_type": "code",
   "execution_count": null,
   "id": "42f36523",
   "metadata": {},
   "outputs": [],
   "source": [
    "model.save('D:/Flowers102_224_model.h5')"
   ]
  },
  {
   "cell_type": "code",
   "execution_count": null,
   "id": "a2a8f4d3",
   "metadata": {},
   "outputs": [],
   "source": []
  },
  {
   "cell_type": "code",
   "execution_count": null,
   "id": "81a28553",
   "metadata": {},
   "outputs": [],
   "source": []
  },
  {
   "cell_type": "code",
   "execution_count": null,
   "id": "d79a876e",
   "metadata": {},
   "outputs": [],
   "source": []
  },
  {
   "cell_type": "code",
   "execution_count": null,
   "id": "39f32c23",
   "metadata": {},
   "outputs": [],
   "source": []
  },
  {
   "cell_type": "code",
   "execution_count": null,
   "id": "cedaf326",
   "metadata": {},
   "outputs": [],
   "source": []
  },
  {
   "cell_type": "code",
   "execution_count": null,
   "id": "eff479f8",
   "metadata": {},
   "outputs": [],
   "source": []
  },
  {
   "cell_type": "code",
   "execution_count": null,
   "id": "f14a6972",
   "metadata": {},
   "outputs": [],
   "source": []
  },
  {
   "cell_type": "code",
   "execution_count": null,
   "id": "8ee89897",
   "metadata": {},
   "outputs": [],
   "source": []
  },
  {
   "cell_type": "code",
   "execution_count": null,
   "id": "1616750e",
   "metadata": {},
   "outputs": [],
   "source": []
  },
  {
   "cell_type": "code",
   "execution_count": null,
   "id": "81e20c6b",
   "metadata": {},
   "outputs": [],
   "source": []
  },
  {
   "cell_type": "code",
   "execution_count": null,
   "id": "d8f03d5b",
   "metadata": {},
   "outputs": [],
   "source": []
  }
 ],
 "metadata": {
  "kernelspec": {
   "display_name": "Python 3 (ipykernel)",
   "language": "python",
   "name": "python3"
  },
  "language_info": {
   "codemirror_mode": {
    "name": "ipython",
    "version": 3
   },
   "file_extension": ".py",
   "mimetype": "text/x-python",
   "name": "python",
   "nbconvert_exporter": "python",
   "pygments_lexer": "ipython3",
   "version": "3.8.18"
  }
 },
 "nbformat": 4,
 "nbformat_minor": 5
}
