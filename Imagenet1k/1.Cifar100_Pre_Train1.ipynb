{
 "cells": [
  {
   "cell_type": "code",
   "execution_count": 1,
   "id": "379e3cbd",
   "metadata": {},
   "outputs": [],
   "source": [
    "import tensorflow as tf\n",
    "from tensorflow import keras\n",
    "from tensorflow.keras.datasets import cifar100\n",
    "from tensorflow.keras.applications import MobileNet\n",
    "from tensorflow.keras.models import Sequential\n",
    "from tensorflow.keras.layers import Dense, GlobalAveragePooling2D\n",
    "from tensorflow.keras.optimizers import Adam\n",
    "from tensorflow.keras.preprocessing.image import ImageDataGenerator\n",
    "\n",
    "# Load the CIFAR-100 dataset\n",
    "(x_train, y_train), (x_test, y_test) = cifar100.load_data()\n",
    "\n",
    "# Normalize the pixel values between 0 and 1\n",
    "x_train = x_train.astype('float32') / 255.0\n",
    "x_test = x_test.astype('float32') / 255.0\n",
    "\n",
    "# Convert the labels to one-hot encoding\n",
    "y_train = keras.utils.to_categorical(y_train, 100)\n",
    "y_test = keras.utils.to_categorical(y_test, 100)\n"
   ]
  },
  {
   "cell_type": "code",
   "execution_count": 1,
   "id": "e329042b",
   "metadata": {},
   "outputs": [
    {
     "name": "stderr",
     "output_type": "stream",
     "text": [
      "100%|██████████████████████████████████████████████████████████████████████████████████| 10/10 [00:09<00:00,  1.11it/s]"
     ]
    },
    {
     "name": "stdout",
     "output_type": "stream",
     "text": [
      "X_train shape: (29009, 32, 32, 3)\n",
      "Y_train shape: (29009,)\n"
     ]
    },
    {
     "name": "stderr",
     "output_type": "stream",
     "text": [
      "\n"
     ]
    }
   ],
   "source": [
    "import os\n",
    "from PIL import Image\n",
    "import numpy as np\n",
    "from sklearn.preprocessing import LabelEncoder, OneHotEncoder\n",
    "from tqdm import tqdm\n",
    "\n",
    "# Define the path to the directory\n",
    "directory_path = r\"E:\\imbcifar\\train\"\n",
    "\n",
    "# Initialize empty lists for images and labels\n",
    "X_train = []\n",
    "Y_train = []\n",
    "class_label = 0\n",
    "\n",
    "# Loop through subdirectories (classes)\n",
    "for class_folder in tqdm(sorted(os.listdir(directory_path))):\n",
    "    class_path = os.path.join(directory_path, class_folder)\n",
    "    \n",
    "    for image_file in os.listdir(class_path):\n",
    "        if image_file.endswith('.png'):\n",
    "            image_path = os.path.join(class_path, image_file)\n",
    "            \n",
    "            # Load image, convert to RGB and resize\n",
    "            img = Image.open(image_path).convert('RGB')\n",
    "            img = img.resize((32, 32))\n",
    "            img_array = np.array(img)\n",
    "            \n",
    "            # Append image and label to lists\n",
    "            X_train.append(img_array)\n",
    "            Y_train.append(class_label)\n",
    "            \n",
    "    class_label = class_label + 1\n",
    "\n",
    "# Convert lists to numpy arrays\n",
    "X_train = np.array(X_train)\n",
    "Y_train = np.array(Y_train)\n",
    "\n",
    "print(f'X_train shape: {X_train.shape}')\n",
    "print(f'Y_train shape: {Y_train.shape}')"
   ]
  },
  {
   "cell_type": "code",
   "execution_count": null,
   "id": "37702c4e",
   "metadata": {},
   "outputs": [],
   "source": []
  },
  {
   "cell_type": "code",
   "execution_count": 2,
   "id": "833ce9bf",
   "metadata": {},
   "outputs": [
    {
     "name": "stderr",
     "output_type": "stream",
     "text": [
      "Processing Imbalance: 100%|████████████████████████████████████████████████████| 50000/50000 [00:20<00:00, 2428.04it/s]\n",
      "Normalizing Data: 100%|████████████████████████████████████████████████████████| 27500/27500 [00:11<00:00, 2333.56it/s]\n"
     ]
    },
    {
     "name": "stdout",
     "output_type": "stream",
     "text": [
      "x_train shape: (27500, 32, 32, 3), y_train shape: (27500,)\n"
     ]
    }
   ],
   "source": [
    "import tensorflow as tf\n",
    "import tensorflow_datasets as tfds\n",
    "import numpy as np\n",
    "from tqdm import tqdm\n",
    "\n",
    "# Load CIFAR-100 dataset\n",
    "(train_data, test_data), ds_info = tfds.load('cifar100', split=['train', 'test'], \n",
    "                                             shuffle_files=True, as_supervised=True,\n",
    "                                             with_info=True)\n",
    "\n",
    "# Function to create class imbalance\n",
    "def create_class_imbalance(dataset, imbalance_ratio=0.1):\n",
    "    class_counts = [500] * 100  # CIFAR-100 has 500 images per class\n",
    "\n",
    "    # Reduce the number of images for every alternate class\n",
    "    imbalanced_class_counts = [int(count * imbalance_ratio) if i % 2 == 0 else count\n",
    "                               for i, count in enumerate(class_counts)]\n",
    "\n",
    "    imbalanced_dataset = []\n",
    "    class_counter = {i: 0 for i in range(100)}  # Track class counts\n",
    "\n",
    "    # Using tqdm to show progress\n",
    "    for image, label in tqdm(dataset, desc=\"Processing Imbalance\"):\n",
    "        label = label.numpy()  # Convert label to numpy for comparison\n",
    "        if class_counter[label] < imbalanced_class_counts[label]:\n",
    "            imbalanced_dataset.append((image, label))\n",
    "            class_counter[label] += 1\n",
    "\n",
    "    return imbalanced_dataset\n",
    "\n",
    "# Create imbalanced CIFAR-100 dataset\n",
    "imbalanced_train_data = create_class_imbalance(train_data)\n",
    "\n",
    "# Preprocessing function (normalize)\n",
    "def preprocess(image, label):\n",
    "    image = tf.cast(image, tf.float32) / 255.0  # Normalize to [0, 1]\n",
    "    return image, label\n",
    "\n",
    "# Apply normalization to the imbalanced dataset\n",
    "x_train, y_train = [], []\n",
    "\n",
    "for image, label in tqdm(imbalanced_train_data, desc=\"Normalizing Data\"):\n",
    "    image, label = preprocess(image, label)\n",
    "    x_train.append(image.numpy())  # Convert image to numpy array\n",
    "    y_train.append(label)  # Directly append the label since it's already an integer\n",
    "\n",
    "X_train = np.array(x_train)\n",
    "y_train = np.array(y_train)\n",
    "\n",
    "# Ready for TensorFlow training\n",
    "print(f'x_train shape: {X_train.shape}, y_train shape: {y_train.shape}')\n"
   ]
  },
  {
   "cell_type": "code",
   "execution_count": null,
   "id": "6bc75184",
   "metadata": {},
   "outputs": [],
   "source": []
  },
  {
   "cell_type": "code",
   "execution_count": null,
   "id": "251b8092",
   "metadata": {
    "scrolled": false
   },
   "outputs": [],
   "source": []
  },
  {
   "cell_type": "code",
   "execution_count": null,
   "id": "ffc5d638",
   "metadata": {},
   "outputs": [],
   "source": [
    "import os\n",
    "from PIL import Image\n",
    "import numpy as np\n",
    "from tqdm import tqdm\n",
    "\n",
    "# Define the path to the directory\n",
    "directory_path = r\"G:\\data\\inat\\data\\train_val2018\\train_val2018\"\n",
    "\n",
    "# Initialize empty lists for images and labels\n",
    "X_train = []\n",
    "Y_train = []\n",
    "class_label = 0\n",
    "max_images_per_class = 12000  # Set the limit to 20,000 images per top-level directory\n",
    "\n",
    "# Loop through top-level subdirectories (classes) with tqdm\n",
    "for class_folder in tqdm(sorted(os.listdir(directory_path)), desc=\"Processing directories\"):\n",
    "    class_path = os.path.join(directory_path, class_folder)\n",
    "    \n",
    "    # Check if it's a directory\n",
    "    if os.path.isdir(class_path):\n",
    "        # Initialize a counter for the number of images processed in this class\n",
    "        image_count = 0\n",
    "        \n",
    "        # Get all image files in this directory and subdirectories\n",
    "        image_files = []\n",
    "        for root, _, files in os.walk(class_path):\n",
    "            image_files += [os.path.join(root, file) for file in files if file.endswith('.jpg')]\n",
    "        \n",
    "        # Loop through all images with tqdm, but stop once 20,000 images are reached\n",
    "        for image_path in tqdm(image_files, desc=f\"Processing images in {class_folder}\", leave=False):\n",
    "            if image_count >= max_images_per_class:\n",
    "                break  # Stop processing this directory once 20,000 images are reached\n",
    "\n",
    "            # Load image, convert to RGB and resize\n",
    "            img = Image.open(image_path).convert('RGB')\n",
    "            img = img.resize((32, 32))\n",
    "            img_array = np.array(img)\n",
    "            \n",
    "            # Append image and label to lists\n",
    "            X_train.append(img_array)\n",
    "            Y_train.append(class_label)\n",
    "            \n",
    "            # Increment the image count for this class\n",
    "            image_count += 1\n",
    "        \n",
    "        # Increment the class label after processing each top-level folder\n",
    "        class_label += 1\n",
    "\n",
    "# Convert lists to numpy arrays\n",
    "X_train = np.array(X_train)\n",
    "Y_train = np.array(Y_train)\n",
    "\n",
    "print(f'X_train shape: {X_train.shape}')\n",
    "print(f'Y_train shape: {Y_train.shape}')\n"
   ]
  },
  {
   "cell_type": "code",
   "execution_count": null,
   "id": "846c5bf0",
   "metadata": {},
   "outputs": [],
   "source": []
  },
  {
   "cell_type": "code",
   "execution_count": null,
   "id": "78418789",
   "metadata": {},
   "outputs": [],
   "source": []
  },
  {
   "cell_type": "code",
   "execution_count": null,
   "id": "7bc94b54",
   "metadata": {},
   "outputs": [],
   "source": []
  },
  {
   "cell_type": "code",
   "execution_count": null,
   "id": "d31e60f0",
   "metadata": {},
   "outputs": [],
   "source": []
  },
  {
   "cell_type": "code",
   "execution_count": 1,
   "id": "0c549f87",
   "metadata": {},
   "outputs": [],
   "source": [
    "import os\n",
    "import numpy as np\n",
    "from PIL import Image\n",
    "from sklearn.model_selection import train_test_split\n",
    "from tensorflow.keras.utils import to_categorical\n",
    "from tensorflow.keras.applications.resnet import ResNet50, preprocess_input\n",
    "import glob\n",
    "\n",
    "target_size = (32, 32)  # Change the values as per your requirement\n",
    "# Load the pre-trained ResNet50 model with modified input shape\n",
    "model = ResNet50(weights='imagenet', include_top=False, pooling='avg', input_shape=(target_size[0], target_size[1], 3))"
   ]
  },
  {
   "cell_type": "code",
   "execution_count": 2,
   "id": "d0c9ee00",
   "metadata": {},
   "outputs": [
    {
     "data": {
      "text/html": [
       "<div>\n",
       "<style scoped>\n",
       "    .dataframe tbody tr th:only-of-type {\n",
       "        vertical-align: middle;\n",
       "    }\n",
       "\n",
       "    .dataframe tbody tr th {\n",
       "        vertical-align: top;\n",
       "    }\n",
       "\n",
       "    .dataframe thead th {\n",
       "        text-align: right;\n",
       "    }\n",
       "</style>\n",
       "<table border=\"1\" class=\"dataframe\">\n",
       "  <thead>\n",
       "    <tr style=\"text-align: right;\">\n",
       "      <th></th>\n",
       "      <th>Feature 0</th>\n",
       "      <th>Feature 1</th>\n",
       "      <th>Feature 2</th>\n",
       "      <th>Feature 3</th>\n",
       "      <th>Feature 4</th>\n",
       "      <th>Feature 5</th>\n",
       "      <th>Feature 6</th>\n",
       "      <th>Feature 7</th>\n",
       "      <th>Feature 8</th>\n",
       "      <th>Feature 9</th>\n",
       "      <th>...</th>\n",
       "      <th>Feature 2038</th>\n",
       "      <th>Feature 2039</th>\n",
       "      <th>Feature 2040</th>\n",
       "      <th>Feature 2041</th>\n",
       "      <th>Feature 2042</th>\n",
       "      <th>Feature 2043</th>\n",
       "      <th>Feature 2044</th>\n",
       "      <th>Feature 2045</th>\n",
       "      <th>Feature 2046</th>\n",
       "      <th>Feature 2047</th>\n",
       "    </tr>\n",
       "  </thead>\n",
       "  <tbody>\n",
       "    <tr>\n",
       "      <th>0</th>\n",
       "      <td>0.0</td>\n",
       "      <td>0.0</td>\n",
       "      <td>0.0</td>\n",
       "      <td>0.0</td>\n",
       "      <td>0.0</td>\n",
       "      <td>0.0</td>\n",
       "      <td>0.0</td>\n",
       "      <td>0.0</td>\n",
       "      <td>0.0</td>\n",
       "      <td>0.0</td>\n",
       "      <td>...</td>\n",
       "      <td>0.0</td>\n",
       "      <td>0.0</td>\n",
       "      <td>0.009121</td>\n",
       "      <td>0.0</td>\n",
       "      <td>0.0</td>\n",
       "      <td>0.0</td>\n",
       "      <td>0.0</td>\n",
       "      <td>3.285227</td>\n",
       "      <td>0.0</td>\n",
       "      <td>0.0</td>\n",
       "    </tr>\n",
       "  </tbody>\n",
       "</table>\n",
       "<p>1 rows × 2048 columns</p>\n",
       "</div>"
      ],
      "text/plain": [
       "   Feature 0  Feature 1  Feature 2  Feature 3  Feature 4  Feature 5  \\\n",
       "0        0.0        0.0        0.0        0.0        0.0        0.0   \n",
       "\n",
       "   Feature 6  Feature 7  Feature 8  Feature 9  ...  Feature 2038  \\\n",
       "0        0.0        0.0        0.0        0.0  ...           0.0   \n",
       "\n",
       "   Feature 2039  Feature 2040  Feature 2041  Feature 2042  Feature 2043  \\\n",
       "0           0.0      0.009121           0.0           0.0           0.0   \n",
       "\n",
       "   Feature 2044  Feature 2045  Feature 2046  Feature 2047  \n",
       "0           0.0      3.285227           0.0           0.0  \n",
       "\n",
       "[1 rows x 2048 columns]"
      ]
     },
     "execution_count": 2,
     "metadata": {},
     "output_type": "execute_result"
    }
   ],
   "source": [
    "import pandas as pd\n",
    "# Define the file path\n",
    "file_path = r\"D:\\feature.csv\"\n",
    "# Read the tab-separated CSV file into a DataFrame\n",
    "df = pd.read_csv(file_path, delimiter='\\t')\n",
    "columns_to_drop = [df.columns[0], df.columns[-1]]\n",
    "data = df.drop(columns_to_drop, axis=1)\n",
    "# Display the head of the DataFrame\n",
    "data.head(1)"
   ]
  },
  {
   "cell_type": "code",
   "execution_count": 4,
   "id": "06649222",
   "metadata": {},
   "outputs": [
    {
     "data": {
      "text/plain": [
       "(4357, 32, 32, 3)"
      ]
     },
     "execution_count": 4,
     "metadata": {},
     "output_type": "execute_result"
    }
   ],
   "source": [
    "np.shape(X_train)"
   ]
  },
  {
   "cell_type": "code",
   "execution_count": 4,
   "id": "6afbd946",
   "metadata": {},
   "outputs": [],
   "source": []
  },
  {
   "cell_type": "code",
   "execution_count": 5,
   "id": "424d8e32",
   "metadata": {},
   "outputs": [],
   "source": [
    "from PIL import Image\n",
    "import numpy as np\n",
    "ft = model.predict(np.array(X_train).astype(\"float32\"))"
   ]
  },
  {
   "cell_type": "code",
   "execution_count": 6,
   "id": "e61ee04e",
   "metadata": {},
   "outputs": [
    {
     "name": "stderr",
     "output_type": "stream",
     "text": [
      "C:\\Users\\shaif\\anaconda3\\envs\\tens\\lib\\site-packages\\sklearn\\cluster\\_kmeans.py:1934: FutureWarning: The default value of `n_init` will change from 3 to 'auto' in 1.4. Set the value of `n_init` explicitly to suppress the warning\n",
      "  super()._check_params_vs_input(X, default_n_init=3)\n"
     ]
    }
   ],
   "source": [
    "from sklearn.cluster import MiniBatchKMeans\n",
    "\n",
    "n_clusters = 400\n",
    "batch_size = 100\n",
    "max_iter = 100\n",
    "\n",
    "kmeans = MiniBatchKMeans(n_clusters=n_clusters, batch_size=batch_size, max_iter=max_iter)\n",
    "kmeans.fit(ft)\n",
    "# Retrieve the cluster centers\n",
    "ct = kmeans.cluster_centers_.tolist()"
   ]
  },
  {
   "cell_type": "code",
   "execution_count": 7,
   "id": "400c3f1b",
   "metadata": {
    "scrolled": true
   },
   "outputs": [
    {
     "name": "stderr",
     "output_type": "stream",
     "text": [
      "100%|████████████████████████████████████████████████████████████████████████████████| 400/400 [01:29<00:00,  4.49it/s]\n"
     ]
    },
    {
     "name": "stdout",
     "output_type": "stream",
     "text": [
      "(400, 1000)\n",
      "(400, 1000)\n"
     ]
    }
   ],
   "source": [
    "from tqdm import tqdm\n",
    "\n",
    "combo_list = []  # Initialize combo_list\n",
    "tot_dist = []\n",
    "# Iterate over ft\n",
    "for i in tqdm(range(len(ct))):\n",
    "    distances = []\n",
    "\n",
    "    # Calculate distances for each row in data\n",
    "    for index, row in data.iterrows():\n",
    "        row_array = row.to_numpy()  # Convert row to numpy array\n",
    "        distance = np.linalg.norm(ct[i] - row_array)  # Calculate Euclidean distance\n",
    "        distances.append(distance)\n",
    "\n",
    "    tot_dist.append(distances)\n",
    "print(np.shape(tot_dist))\n",
    "#new_shape = (1000, 30)\n",
    "#re_dist = np.transpose(tot_dist, (1, 0))\n",
    "re_dist = tot_dist\n",
    "print(np.shape(re_dist))"
   ]
  },
  {
   "cell_type": "code",
   "execution_count": 3,
   "id": "c5ba3d01",
   "metadata": {},
   "outputs": [
    {
     "ename": "NameError",
     "evalue": "name 're_dist' is not defined",
     "output_type": "error",
     "traceback": [
      "\u001b[1;31m---------------------------------------------------------------------------\u001b[0m",
      "\u001b[1;31mNameError\u001b[0m                                 Traceback (most recent call last)",
      "Cell \u001b[1;32mIn[3], line 7\u001b[0m\n\u001b[0;32m      4\u001b[0m file_path \u001b[38;5;241m=\u001b[39m \u001b[38;5;124mr\u001b[39m\u001b[38;5;124m\"\u001b[39m\u001b[38;5;124mD:\u001b[39m\u001b[38;5;124m\\\u001b[39m\u001b[38;5;124mdist_list.pickle\u001b[39m\u001b[38;5;124m\"\u001b[39m  \u001b[38;5;66;03m# r prefix is used for raw string to avoid escape characters\u001b[39;00m\n\u001b[0;32m      6\u001b[0m \u001b[38;5;28;01mwith\u001b[39;00m \u001b[38;5;28mopen\u001b[39m(file_path, \u001b[38;5;124m'\u001b[39m\u001b[38;5;124mwb\u001b[39m\u001b[38;5;124m'\u001b[39m) \u001b[38;5;28;01mas\u001b[39;00m file:\n\u001b[1;32m----> 7\u001b[0m     pickle\u001b[38;5;241m.\u001b[39mdump(\u001b[43mre_dist\u001b[49m, file)\n\u001b[0;32m      9\u001b[0m \u001b[38;5;28mprint\u001b[39m(\u001b[38;5;124m\"\u001b[39m\u001b[38;5;124mCombo list saved successfully.\u001b[39m\u001b[38;5;124m\"\u001b[39m)\n",
      "\u001b[1;31mNameError\u001b[0m: name 're_dist' is not defined"
     ]
    }
   ],
   "source": [
    "import pickle\n",
    "\n",
    "\n",
    "# Saving the list to a file in the D: drive\n",
    "file_path = r\"D:\\dist_list.pickle\"  # r prefix is used for raw string to avoid escape characters\n",
    "\n",
    "with open(file_path, 'wb') as file:\n",
    "    pickle.dump(re_dist, file)\n",
    "\n",
    "print(\"Combo list saved successfully.\")\n"
   ]
  },
  {
   "cell_type": "code",
   "execution_count": 9,
   "id": "c1af5e5d",
   "metadata": {},
   "outputs": [
    {
     "ename": "NameError",
     "evalue": "name 'index_list' is not defined",
     "output_type": "error",
     "traceback": [
      "\u001b[1;31m---------------------------------------------------------------------------\u001b[0m",
      "\u001b[1;31mNameError\u001b[0m                                 Traceback (most recent call last)",
      "Cell \u001b[1;32mIn[9], line 1\u001b[0m\n\u001b[1;32m----> 1\u001b[0m \u001b[38;5;28mlen\u001b[39m(\u001b[43mindex_list\u001b[49m)\n",
      "\u001b[1;31mNameError\u001b[0m: name 'index_list' is not defined"
     ]
    }
   ],
   "source": [
    "len(index_list)"
   ]
  },
  {
   "cell_type": "code",
   "execution_count": null,
   "id": "43511453",
   "metadata": {},
   "outputs": [],
   "source": []
  },
  {
   "cell_type": "code",
   "execution_count": 5,
   "id": "ee431086",
   "metadata": {},
   "outputs": [
    {
     "name": "stdout",
     "output_type": "stream",
     "text": [
      "Combo list loaded successfully.\n",
      "[7, 16, 18, 19, 21, 22, 23, 51, 87, 88, 89, 93, 95, 96, 105, 112, 117, 121, 122, 125, 127, 130, 132, 144, 145, 151, 152, 153, 154, 155, 156, 157, 158, 161, 162, 164, 165, 166, 167, 169, 173, 174, 175, 176, 179, 180, 181, 183, 188, 190, 194, 195, 196, 197, 198, 199, 200, 201, 204, 205, 206, 208, 212, 214, 215, 216, 217, 218, 219, 221, 222, 223, 224, 226, 227, 228, 229, 230, 231, 232, 233, 234, 236, 237, 238, 239, 240, 241, 242, 243, 244, 245, 246, 247, 248, 249, 250, 251, 252, 253, 254, 256, 257, 258, 261, 262, 264, 265, 266, 267, 268, 284, 295, 297, 302, 306, 321, 324, 332, 338, 355, 359, 361, 362, 364, 366, 367, 368, 369, 370, 374, 375, 377, 378, 379, 380, 381, 382, 384, 387, 388, 389, 392, 399, 400, 401, 402, 409, 413, 414, 417, 418, 420, 422, 423, 424, 426, 429, 432, 433, 439, 440, 441, 442, 443, 445, 446, 447, 448, 450, 451, 452, 456, 457, 459, 461, 464, 465, 466, 469, 473, 475, 477, 479, 486, 487, 488, 494, 496, 499, 501, 502, 504, 505, 506, 507, 512, 513, 515, 518, 521, 523, 524, 526, 527, 528, 531, 535, 541, 542, 543, 544, 546, 550, 551, 552, 558, 560, 563, 564, 566, 567, 568, 570, 571, 574, 577, 578, 579, 585, 587, 589, 590, 592, 593, 594, 596, 597, 600, 602, 604, 605, 606, 607, 608, 610, 613, 614, 615, 616, 617, 618, 620, 622, 623, 626, 629, 630, 632, 633, 635, 636, 638, 639, 641, 643, 644, 650, 655, 658, 662, 664, 666, 667, 670, 673, 676, 678, 679, 681, 683, 684, 685, 686, 689, 691, 695, 696, 699, 700, 704, 710, 711, 714, 720, 725, 726, 728, 731, 732, 740, 742, 745, 746, 747, 749, 754, 758, 759, 761, 767, 768, 770, 774, 775, 776, 778, 784, 785, 786, 787, 789, 795, 796, 800, 802, 805, 808, 809, 813, 816, 818, 819, 822, 823, 824, 826, 828, 830, 834, 836, 837, 841, 844, 845, 849, 850, 861, 862, 869, 872, 875, 878, 879, 882, 887, 889, 891, 892, 893, 897, 902, 903, 906, 907, 909, 910, 920, 923, 924, 925, 926, 928, 929, 932, 933, 934, 935, 938, 939, 941, 943, 947, 949, 952, 956, 957, 960, 962, 965, 966, 967, 968, 969, 982, 985, 990, 994, 995, 999]\n"
     ]
    }
   ],
   "source": [
    "import pickle\n",
    "\n",
    "# Loading the list from the pickle file\n",
    "file_path = r\"D:\\index_list.pickle\"  # Update the file path if necessary\n",
    "\n",
    "with open(file_path, 'rb') as file:\n",
    "    index_list = pickle.load(file)\n",
    "\n",
    "print(\"Combo list loaded successfully.\")\n",
    "print(index_list)\n"
   ]
  },
  {
   "cell_type": "code",
   "execution_count": 5,
   "id": "eba86a44",
   "metadata": {},
   "outputs": [
    {
     "data": {
      "text/plain": [
       "Index(['Directory', 'Feature 0', 'Feature 1', 'Feature 2', 'Feature 3',\n",
       "       'Feature 4', 'Feature 5', 'Feature 6', 'Feature 7', 'Feature 8',\n",
       "       ...\n",
       "       'Feature 2039', 'Feature 2040', 'Feature 2041', 'Feature 2042',\n",
       "       'Feature 2043', 'Feature 2044', 'Feature 2045', 'Feature 2046',\n",
       "       'Feature 2047', 'Unnamed: 2049'],\n",
       "      dtype='object', length=2050)"
      ]
     },
     "execution_count": 5,
     "metadata": {},
     "output_type": "execute_result"
    }
   ],
   "source": [
    "df.columns"
   ]
  },
  {
   "cell_type": "code",
   "execution_count": 6,
   "id": "8ede097d",
   "metadata": {},
   "outputs": [],
   "source": [
    "selected_data = df.loc[index_list, ['Name']].to_numpy().flatten()"
   ]
  },
  {
   "cell_type": "code",
   "execution_count": null,
   "id": "e89170a8",
   "metadata": {},
   "outputs": [],
   "source": []
  },
  {
   "cell_type": "code",
   "execution_count": null,
   "id": "81d3dc2d",
   "metadata": {},
   "outputs": [],
   "source": []
  },
  {
   "cell_type": "code",
   "execution_count": 7,
   "id": "c5f11d72",
   "metadata": {},
   "outputs": [
    {
     "name": "stdout",
     "output_type": "stream",
     "text": [
      "Combo list saved successfully.\n"
     ]
    }
   ],
   "source": [
    "import pickle\n",
    "\n",
    "# Saving the list to a file in the D: drive\n",
    "file_path = r\"D:\\combo_list.pickle\"  # r prefix is used for raw string to avoid escape characters\n",
    "\n",
    "with open(file_path, 'wb') as file:\n",
    "    pickle.dump(selected_data, file)\n",
    "\n",
    "print(\"Combo list saved successfully.\")\n"
   ]
  },
  {
   "cell_type": "code",
   "execution_count": 8,
   "id": "ebce419a",
   "metadata": {},
   "outputs": [
    {
     "name": "stdout",
     "output_type": "stream",
     "text": [
      "Combo list loaded successfully.\n",
      "['D:/data/imagenet\\\\n01514668\\\\' 'D:/data/imagenet\\\\n01560419\\\\'\n",
      " 'D:/data/imagenet\\\\n01582220\\\\' 'D:/data/imagenet\\\\n01592084\\\\'\n",
      " 'D:/data/imagenet\\\\n01608432\\\\' 'D:/data/imagenet\\\\n01614925\\\\'\n",
      " 'D:/data/imagenet\\\\n01616318\\\\' 'D:/data/imagenet\\\\n01704323\\\\'\n",
      " 'D:/data/imagenet\\\\n01817953\\\\' 'D:/data/imagenet\\\\n01818515\\\\'\n",
      " 'D:/data/imagenet\\\\n01819313\\\\' 'D:/data/imagenet\\\\n01829413\\\\'\n",
      " 'D:/data/imagenet\\\\n01843065\\\\' 'D:/data/imagenet\\\\n01843383\\\\'\n",
      " 'D:/data/imagenet\\\\n01882714\\\\' 'D:/data/imagenet\\\\n01943899\\\\'\n",
      " 'D:/data/imagenet\\\\n01968897\\\\' 'D:/data/imagenet\\\\n01981276\\\\'\n",
      " 'D:/data/imagenet\\\\n01983481\\\\' 'D:/data/imagenet\\\\n01986214\\\\'\n",
      " 'D:/data/imagenet\\\\n02002556\\\\' 'D:/data/imagenet\\\\n02007558\\\\'\n",
      " 'D:/data/imagenet\\\\n02009912\\\\' 'D:/data/imagenet\\\\n02051845\\\\'\n",
      " 'D:/data/imagenet\\\\n02056570\\\\' 'D:/data/imagenet\\\\n02085620\\\\'\n",
      " 'D:/data/imagenet\\\\n02085782\\\\' 'D:/data/imagenet\\\\n02085936\\\\'\n",
      " 'D:/data/imagenet\\\\n02086079\\\\' 'D:/data/imagenet\\\\n02086240\\\\'\n",
      " 'D:/data/imagenet\\\\n02086646\\\\' 'D:/data/imagenet\\\\n02086910\\\\'\n",
      " 'D:/data/imagenet\\\\n02087046\\\\' 'D:/data/imagenet\\\\n02088238\\\\'\n",
      " 'D:/data/imagenet\\\\n02088364\\\\' 'D:/data/imagenet\\\\n02088632\\\\'\n",
      " 'D:/data/imagenet\\\\n02089078\\\\' 'D:/data/imagenet\\\\n02089867\\\\'\n",
      " 'D:/data/imagenet\\\\n02089973\\\\' 'D:/data/imagenet\\\\n02090622\\\\'\n",
      " 'D:/data/imagenet\\\\n02091244\\\\' 'D:/data/imagenet\\\\n02091467\\\\'\n",
      " 'D:/data/imagenet\\\\n02091635\\\\' 'D:/data/imagenet\\\\n02091831\\\\'\n",
      " 'D:/data/imagenet\\\\n02093256\\\\' 'D:/data/imagenet\\\\n02093428\\\\'\n",
      " 'D:/data/imagenet\\\\n02093647\\\\' 'D:/data/imagenet\\\\n02093859\\\\'\n",
      " 'D:/data/imagenet\\\\n02095314\\\\' 'D:/data/imagenet\\\\n02095889\\\\'\n",
      " 'D:/data/imagenet\\\\n02096437\\\\' 'D:/data/imagenet\\\\n02096585\\\\'\n",
      " 'D:/data/imagenet\\\\n02097047\\\\' 'D:/data/imagenet\\\\n02097130\\\\'\n",
      " 'D:/data/imagenet\\\\n02097209\\\\' 'D:/data/imagenet\\\\n02097298\\\\'\n",
      " 'D:/data/imagenet\\\\n02097474\\\\' 'D:/data/imagenet\\\\n02097658\\\\'\n",
      " 'D:/data/imagenet\\\\n02098413\\\\' 'D:/data/imagenet\\\\n02099267\\\\'\n",
      " 'D:/data/imagenet\\\\n02099429\\\\' 'D:/data/imagenet\\\\n02099712\\\\'\n",
      " 'D:/data/imagenet\\\\n02100735\\\\' 'D:/data/imagenet\\\\n02101006\\\\'\n",
      " 'D:/data/imagenet\\\\n02101388\\\\' 'D:/data/imagenet\\\\n02101556\\\\'\n",
      " 'D:/data/imagenet\\\\n02102040\\\\' 'D:/data/imagenet\\\\n02102177\\\\'\n",
      " 'D:/data/imagenet\\\\n02102318\\\\' 'D:/data/imagenet\\\\n02102973\\\\'\n",
      " 'D:/data/imagenet\\\\n02104029\\\\' 'D:/data/imagenet\\\\n02104365\\\\'\n",
      " 'D:/data/imagenet\\\\n02105056\\\\' 'D:/data/imagenet\\\\n02105251\\\\'\n",
      " 'D:/data/imagenet\\\\n02105412\\\\' 'D:/data/imagenet\\\\n02105505\\\\'\n",
      " 'D:/data/imagenet\\\\n02105641\\\\' 'D:/data/imagenet\\\\n02105855\\\\'\n",
      " 'D:/data/imagenet\\\\n02106030\\\\' 'D:/data/imagenet\\\\n02106166\\\\'\n",
      " 'D:/data/imagenet\\\\n02106382\\\\' 'D:/data/imagenet\\\\n02106550\\\\'\n",
      " 'D:/data/imagenet\\\\n02107142\\\\' 'D:/data/imagenet\\\\n02107312\\\\'\n",
      " 'D:/data/imagenet\\\\n02107574\\\\' 'D:/data/imagenet\\\\n02107683\\\\'\n",
      " 'D:/data/imagenet\\\\n02107908\\\\' 'D:/data/imagenet\\\\n02108000\\\\'\n",
      " 'D:/data/imagenet\\\\n02108089\\\\' 'D:/data/imagenet\\\\n02108422\\\\'\n",
      " 'D:/data/imagenet\\\\n02108551\\\\' 'D:/data/imagenet\\\\n02108915\\\\'\n",
      " 'D:/data/imagenet\\\\n02109047\\\\' 'D:/data/imagenet\\\\n02109525\\\\'\n",
      " 'D:/data/imagenet\\\\n02109961\\\\' 'D:/data/imagenet\\\\n02110063\\\\'\n",
      " 'D:/data/imagenet\\\\n02110185\\\\' 'D:/data/imagenet\\\\n02110341\\\\'\n",
      " 'D:/data/imagenet\\\\n02110627\\\\' 'D:/data/imagenet\\\\n02110806\\\\'\n",
      " 'D:/data/imagenet\\\\n02110958\\\\' 'D:/data/imagenet\\\\n02111277\\\\'\n",
      " 'D:/data/imagenet\\\\n02111500\\\\' 'D:/data/imagenet\\\\n02111889\\\\'\n",
      " 'D:/data/imagenet\\\\n02112350\\\\' 'D:/data/imagenet\\\\n02112706\\\\'\n",
      " 'D:/data/imagenet\\\\n02113186\\\\' 'D:/data/imagenet\\\\n02113624\\\\'\n",
      " 'D:/data/imagenet\\\\n02113712\\\\' 'D:/data/imagenet\\\\n02113799\\\\'\n",
      " 'D:/data/imagenet\\\\n02113978\\\\' 'D:/data/imagenet\\\\n02123597\\\\'\n",
      " 'D:/data/imagenet\\\\n02133161\\\\' 'D:/data/imagenet\\\\n02134418\\\\'\n",
      " 'D:/data/imagenet\\\\n02167151\\\\' 'D:/data/imagenet\\\\n02174001\\\\'\n",
      " 'D:/data/imagenet\\\\n02276258\\\\' 'D:/data/imagenet\\\\n02280649\\\\'\n",
      " 'D:/data/imagenet\\\\n02328150\\\\' 'D:/data/imagenet\\\\n02364673\\\\'\n",
      " 'D:/data/imagenet\\\\n02437616\\\\' 'D:/data/imagenet\\\\n02443484\\\\'\n",
      " 'D:/data/imagenet\\\\n02445715\\\\' 'D:/data/imagenet\\\\n02447366\\\\'\n",
      " 'D:/data/imagenet\\\\n02457408\\\\' 'D:/data/imagenet\\\\n02480855\\\\'\n",
      " 'D:/data/imagenet\\\\n02481823\\\\' 'D:/data/imagenet\\\\n02483362\\\\'\n",
      " 'D:/data/imagenet\\\\n02483708\\\\' 'D:/data/imagenet\\\\n02484975\\\\'\n",
      " 'D:/data/imagenet\\\\n02488291\\\\' 'D:/data/imagenet\\\\n02488702\\\\'\n",
      " 'D:/data/imagenet\\\\n02490219\\\\' 'D:/data/imagenet\\\\n02492035\\\\'\n",
      " 'D:/data/imagenet\\\\n02492660\\\\' 'D:/data/imagenet\\\\n02493509\\\\'\n",
      " 'D:/data/imagenet\\\\n02493793\\\\' 'D:/data/imagenet\\\\n02494079\\\\'\n",
      " 'D:/data/imagenet\\\\n02500267\\\\' 'D:/data/imagenet\\\\n02509815\\\\'\n",
      " 'D:/data/imagenet\\\\n02510455\\\\' 'D:/data/imagenet\\\\n02514041\\\\'\n",
      " 'D:/data/imagenet\\\\n02606052\\\\' 'D:/data/imagenet\\\\n02667093\\\\'\n",
      " 'D:/data/imagenet\\\\n02669723\\\\' 'D:/data/imagenet\\\\n02672831\\\\'\n",
      " 'D:/data/imagenet\\\\n02676566\\\\' 'D:/data/imagenet\\\\n02708093\\\\'\n",
      " 'D:/data/imagenet\\\\n02749479\\\\' 'D:/data/imagenet\\\\n02769748\\\\'\n",
      " 'D:/data/imagenet\\\\n02782093\\\\' 'D:/data/imagenet\\\\n02783161\\\\'\n",
      " 'D:/data/imagenet\\\\n02787622\\\\' 'D:/data/imagenet\\\\n02790996\\\\'\n",
      " 'D:/data/imagenet\\\\n02791124\\\\' 'D:/data/imagenet\\\\n02791270\\\\'\n",
      " 'D:/data/imagenet\\\\n02794156\\\\' 'D:/data/imagenet\\\\n02799071\\\\'\n",
      " 'D:/data/imagenet\\\\n02804610\\\\' 'D:/data/imagenet\\\\n02807133\\\\'\n",
      " 'D:/data/imagenet\\\\n02817516\\\\' 'D:/data/imagenet\\\\n02823428\\\\'\n",
      " 'D:/data/imagenet\\\\n02823750\\\\' 'D:/data/imagenet\\\\n02825657\\\\'\n",
      " 'D:/data/imagenet\\\\n02834397\\\\' 'D:/data/imagenet\\\\n02837789\\\\'\n",
      " 'D:/data/imagenet\\\\n02840245\\\\' 'D:/data/imagenet\\\\n02841315\\\\'\n",
      " 'D:/data/imagenet\\\\n02843684\\\\' 'D:/data/imagenet\\\\n02860847\\\\'\n",
      " 'D:/data/imagenet\\\\n02865351\\\\' 'D:/data/imagenet\\\\n02869837\\\\'\n",
      " 'D:/data/imagenet\\\\n02879718\\\\' 'D:/data/imagenet\\\\n02883205\\\\'\n",
      " 'D:/data/imagenet\\\\n02892767\\\\' 'D:/data/imagenet\\\\n02895154\\\\'\n",
      " 'D:/data/imagenet\\\\n02910353\\\\' 'D:/data/imagenet\\\\n02916936\\\\'\n",
      " 'D:/data/imagenet\\\\n02917067\\\\' 'D:/data/imagenet\\\\n02939185\\\\'\n",
      " 'D:/data/imagenet\\\\n02951585\\\\' 'D:/data/imagenet\\\\n02965783\\\\'\n",
      " 'D:/data/imagenet\\\\n02966687\\\\' 'D:/data/imagenet\\\\n02974003\\\\'\n",
      " 'D:/data/imagenet\\\\n02992211\\\\' 'D:/data/imagenet\\\\n02992529\\\\'\n",
      " 'D:/data/imagenet\\\\n02999410\\\\' 'D:/data/imagenet\\\\n03017168\\\\'\n",
      " 'D:/data/imagenet\\\\n03026506\\\\' 'D:/data/imagenet\\\\n03041632\\\\'\n",
      " 'D:/data/imagenet\\\\n03045698\\\\' 'D:/data/imagenet\\\\n03047690\\\\'\n",
      " 'D:/data/imagenet\\\\n03063599\\\\' 'D:/data/imagenet\\\\n03063689\\\\'\n",
      " 'D:/data/imagenet\\\\n03065424\\\\' 'D:/data/imagenet\\\\n03075370\\\\'\n",
      " 'D:/data/imagenet\\\\n03109150\\\\' 'D:/data/imagenet\\\\n03110669\\\\'\n",
      " 'D:/data/imagenet\\\\n03124170\\\\' 'D:/data/imagenet\\\\n03127747\\\\'\n",
      " 'D:/data/imagenet\\\\n03133878\\\\' 'D:/data/imagenet\\\\n03141823\\\\'\n",
      " 'D:/data/imagenet\\\\n03146219\\\\' 'D:/data/imagenet\\\\n03179701\\\\'\n",
      " 'D:/data/imagenet\\\\n03180011\\\\' 'D:/data/imagenet\\\\n03187595\\\\'\n",
      " 'D:/data/imagenet\\\\n03197337\\\\' 'D:/data/imagenet\\\\n03208938\\\\'\n",
      " 'D:/data/imagenet\\\\n03249569\\\\' 'D:/data/imagenet\\\\n03250847\\\\'\n",
      " 'D:/data/imagenet\\\\n03255030\\\\' 'D:/data/imagenet\\\\n03259280\\\\'\n",
      " 'D:/data/imagenet\\\\n03272010\\\\' 'D:/data/imagenet\\\\n03297495\\\\'\n",
      " 'D:/data/imagenet\\\\n03314780\\\\' 'D:/data/imagenet\\\\n03325584\\\\'\n",
      " 'D:/data/imagenet\\\\n03372029\\\\' 'D:/data/imagenet\\\\n03379051\\\\'\n",
      " 'D:/data/imagenet\\\\n03388183\\\\' 'D:/data/imagenet\\\\n03388549\\\\'\n",
      " 'D:/data/imagenet\\\\n03394916\\\\' 'D:/data/imagenet\\\\n03400231\\\\'\n",
      " 'D:/data/imagenet\\\\n03404251\\\\' 'D:/data/imagenet\\\\n03424325\\\\'\n",
      " 'D:/data/imagenet\\\\n03425413\\\\' 'D:/data/imagenet\\\\n03445777\\\\'\n",
      " 'D:/data/imagenet\\\\n03447721\\\\' 'D:/data/imagenet\\\\n03450230\\\\'\n",
      " 'D:/data/imagenet\\\\n03452741\\\\' 'D:/data/imagenet\\\\n03476991\\\\'\n",
      " 'D:/data/imagenet\\\\n03481172\\\\' 'D:/data/imagenet\\\\n03483316\\\\'\n",
      " 'D:/data/imagenet\\\\n03485407\\\\' 'D:/data/imagenet\\\\n03492542\\\\'\n",
      " 'D:/data/imagenet\\\\n03494278\\\\' 'D:/data/imagenet\\\\n03495258\\\\'\n",
      " 'D:/data/imagenet\\\\n03498962\\\\' 'D:/data/imagenet\\\\n03527444\\\\'\n",
      " 'D:/data/imagenet\\\\n03532672\\\\' 'D:/data/imagenet\\\\n03535780\\\\'\n",
      " 'D:/data/imagenet\\\\n03544143\\\\' 'D:/data/imagenet\\\\n03584254\\\\'\n",
      " 'D:/data/imagenet\\\\n03584829\\\\' 'D:/data/imagenet\\\\n03590841\\\\'\n",
      " 'D:/data/imagenet\\\\n03594734\\\\' 'D:/data/imagenet\\\\n03595614\\\\'\n",
      " 'D:/data/imagenet\\\\n03602883\\\\' 'D:/data/imagenet\\\\n03617480\\\\'\n",
      " 'D:/data/imagenet\\\\n03623198\\\\' 'D:/data/imagenet\\\\n03627232\\\\'\n",
      " 'D:/data/imagenet\\\\n03630383\\\\' 'D:/data/imagenet\\\\n03633091\\\\'\n",
      " 'D:/data/imagenet\\\\n03642806\\\\' 'D:/data/imagenet\\\\n03657121\\\\'\n",
      " 'D:/data/imagenet\\\\n03658185\\\\' 'D:/data/imagenet\\\\n03666591\\\\'\n",
      " 'D:/data/imagenet\\\\n03676483\\\\' 'D:/data/imagenet\\\\n03680355\\\\'\n",
      " 'D:/data/imagenet\\\\n03691459\\\\' 'D:/data/imagenet\\\\n03692522\\\\'\n",
      " 'D:/data/imagenet\\\\n03706229\\\\' 'D:/data/imagenet\\\\n03709823\\\\'\n",
      " 'D:/data/imagenet\\\\n03710637\\\\' 'D:/data/imagenet\\\\n03710721\\\\'\n",
      " 'D:/data/imagenet\\\\n03720891\\\\' 'D:/data/imagenet\\\\n03724870\\\\'\n",
      " 'D:/data/imagenet\\\\n03729826\\\\' 'D:/data/imagenet\\\\n03759954\\\\'\n",
      " 'D:/data/imagenet\\\\n03770439\\\\' 'D:/data/imagenet\\\\n03775071\\\\'\n",
      " 'D:/data/imagenet\\\\n03777754\\\\' 'D:/data/imagenet\\\\n03782006\\\\'\n",
      " 'D:/data/imagenet\\\\n03786901\\\\' 'D:/data/imagenet\\\\n03787032\\\\'\n",
      " 'D:/data/imagenet\\\\n03791053\\\\' 'D:/data/imagenet\\\\n03793489\\\\'\n",
      " 'D:/data/imagenet\\\\n03803284\\\\' 'D:/data/imagenet\\\\n03814639\\\\'\n",
      " 'D:/data/imagenet\\\\n03814906\\\\' 'D:/data/imagenet\\\\n03832673\\\\'\n",
      " 'D:/data/imagenet\\\\n03838899\\\\' 'D:/data/imagenet\\\\n03840681\\\\'\n",
      " 'D:/data/imagenet\\\\n03841143\\\\' 'D:/data/imagenet\\\\n03843555\\\\'\n",
      " 'D:/data/imagenet\\\\n03866082\\\\' 'D:/data/imagenet\\\\n03868863\\\\'\n",
      " 'D:/data/imagenet\\\\n03874599\\\\' 'D:/data/imagenet\\\\n03876231\\\\'\n",
      " 'D:/data/imagenet\\\\n03884397\\\\' 'D:/data/imagenet\\\\n03887697\\\\'\n",
      " 'D:/data/imagenet\\\\n03891332\\\\' 'D:/data/imagenet\\\\n03908714\\\\'\n",
      " 'D:/data/imagenet\\\\n03916031\\\\' 'D:/data/imagenet\\\\n03929660\\\\'\n",
      " 'D:/data/imagenet\\\\n03937543\\\\' 'D:/data/imagenet\\\\n03950228\\\\'\n",
      " 'D:/data/imagenet\\\\n03954731\\\\' 'D:/data/imagenet\\\\n03958227\\\\'\n",
      " 'D:/data/imagenet\\\\n03970156\\\\' 'D:/data/imagenet\\\\n03976467\\\\'\n",
      " 'D:/data/imagenet\\\\n03995372\\\\' 'D:/data/imagenet\\\\n04004767\\\\'\n",
      " 'D:/data/imagenet\\\\n04009552\\\\' 'D:/data/imagenet\\\\n04019541\\\\'\n",
      " 'D:/data/imagenet\\\\n04023962\\\\' 'D:/data/imagenet\\\\n04033901\\\\'\n",
      " 'D:/data/imagenet\\\\n04041544\\\\' 'D:/data/imagenet\\\\n04067472\\\\'\n",
      " 'D:/data/imagenet\\\\n04069434\\\\' 'D:/data/imagenet\\\\n04074963\\\\'\n",
      " 'D:/data/imagenet\\\\n04116512\\\\' 'D:/data/imagenet\\\\n04118538\\\\'\n",
      " 'D:/data/imagenet\\\\n04120489\\\\' 'D:/data/imagenet\\\\n04133789\\\\'\n",
      " 'D:/data/imagenet\\\\n04136333\\\\' 'D:/data/imagenet\\\\n04141076\\\\'\n",
      " 'D:/data/imagenet\\\\n04141975\\\\' 'D:/data/imagenet\\\\n04154565\\\\'\n",
      " 'D:/data/imagenet\\\\n04162706\\\\' 'D:/data/imagenet\\\\n04179913\\\\'\n",
      " 'D:/data/imagenet\\\\n04192698\\\\' 'D:/data/imagenet\\\\n04201297\\\\'\n",
      " 'D:/data/imagenet\\\\n04228054\\\\' 'D:/data/imagenet\\\\n04229816\\\\'\n",
      " 'D:/data/imagenet\\\\n04243546\\\\' 'D:/data/imagenet\\\\n04252077\\\\'\n",
      " 'D:/data/imagenet\\\\n04254680\\\\' 'D:/data/imagenet\\\\n04259630\\\\'\n",
      " 'D:/data/imagenet\\\\n04263257\\\\' 'D:/data/imagenet\\\\n04270147\\\\'\n",
      " 'D:/data/imagenet\\\\n04277352\\\\' 'D:/data/imagenet\\\\n04286575\\\\'\n",
      " 'D:/data/imagenet\\\\n04296562\\\\' 'D:/data/imagenet\\\\n04311174\\\\'\n",
      " 'D:/data/imagenet\\\\n04317175\\\\' 'D:/data/imagenet\\\\n04325704\\\\'\n",
      " 'D:/data/imagenet\\\\n04328186\\\\' 'D:/data/imagenet\\\\n04332243\\\\'\n",
      " 'D:/data/imagenet\\\\n04336792\\\\' 'D:/data/imagenet\\\\n04350905\\\\'\n",
      " 'D:/data/imagenet\\\\n04355933\\\\' 'D:/data/imagenet\\\\n04356056\\\\'\n",
      " 'D:/data/imagenet\\\\n04370456\\\\' 'D:/data/imagenet\\\\n04372370\\\\'\n",
      " 'D:/data/imagenet\\\\n04376876\\\\' 'D:/data/imagenet\\\\n04398044\\\\'\n",
      " 'D:/data/imagenet\\\\n04399382\\\\' 'D:/data/imagenet\\\\n04447861\\\\'\n",
      " 'D:/data/imagenet\\\\n04456115\\\\' 'D:/data/imagenet\\\\n04479046\\\\'\n",
      " 'D:/data/imagenet\\\\n04485082\\\\' 'D:/data/imagenet\\\\n04487394\\\\'\n",
      " 'D:/data/imagenet\\\\n04505470\\\\' 'D:/data/imagenet\\\\n04507155\\\\'\n",
      " 'D:/data/imagenet\\\\n04517823\\\\' 'D:/data/imagenet\\\\n04532106\\\\'\n",
      " 'D:/data/imagenet\\\\n04536866\\\\' 'D:/data/imagenet\\\\n04542943\\\\'\n",
      " 'D:/data/imagenet\\\\n04548280\\\\' 'D:/data/imagenet\\\\n04548362\\\\'\n",
      " 'D:/data/imagenet\\\\n04554684\\\\' 'D:/data/imagenet\\\\n04579432\\\\'\n",
      " 'D:/data/imagenet\\\\n04584207\\\\' 'D:/data/imagenet\\\\n04591157\\\\'\n",
      " 'D:/data/imagenet\\\\n04591713\\\\' 'D:/data/imagenet\\\\n04596742\\\\'\n",
      " 'D:/data/imagenet\\\\n04597913\\\\' 'D:/data/imagenet\\\\n06874185\\\\'\n",
      " 'D:/data/imagenet\\\\n07579787\\\\' 'D:/data/imagenet\\\\n07583066\\\\'\n",
      " 'D:/data/imagenet\\\\n07584110\\\\' 'D:/data/imagenet\\\\n07590611\\\\'\n",
      " 'D:/data/imagenet\\\\n07614500\\\\' 'D:/data/imagenet\\\\n07615774\\\\'\n",
      " 'D:/data/imagenet\\\\n07695742\\\\' 'D:/data/imagenet\\\\n07697313\\\\'\n",
      " 'D:/data/imagenet\\\\n07697537\\\\' 'D:/data/imagenet\\\\n07711569\\\\'\n",
      " 'D:/data/imagenet\\\\n07715103\\\\' 'D:/data/imagenet\\\\n07716358\\\\'\n",
      " 'D:/data/imagenet\\\\n07717410\\\\' 'D:/data/imagenet\\\\n07718472\\\\'\n",
      " 'D:/data/imagenet\\\\n07734744\\\\' 'D:/data/imagenet\\\\n07745940\\\\'\n",
      " 'D:/data/imagenet\\\\n07753113\\\\' 'D:/data/imagenet\\\\n07760859\\\\'\n",
      " 'D:/data/imagenet\\\\n07768694\\\\' 'D:/data/imagenet\\\\n07836838\\\\'\n",
      " 'D:/data/imagenet\\\\n07871810\\\\' 'D:/data/imagenet\\\\n07880968\\\\'\n",
      " 'D:/data/imagenet\\\\n07892512\\\\' 'D:/data/imagenet\\\\n07920052\\\\'\n",
      " 'D:/data/imagenet\\\\n07930864\\\\' 'D:/data/imagenet\\\\n07932039\\\\'\n",
      " 'D:/data/imagenet\\\\n10148035\\\\' 'D:/data/imagenet\\\\n11939491\\\\'\n",
      " 'D:/data/imagenet\\\\n12768682\\\\' 'D:/data/imagenet\\\\n13040303\\\\'\n",
      " 'D:/data/imagenet\\\\n13044778\\\\' 'D:/data/imagenet\\\\n15075141\\\\']\n"
     ]
    }
   ],
   "source": [
    "import pickle\n",
    "\n",
    "# Loading the list from the pickle file\n",
    "file_path = r\"D:\\combo_list.pickle\"  # Update the file path if necessary\n",
    "\n",
    "with open(file_path, 'rb') as file:\n",
    "    loaded_combo_list = pickle.load(file)\n",
    "\n",
    "print(\"Combo list loaded successfully.\")\n",
    "print(loaded_combo_list)\n"
   ]
  },
  {
   "cell_type": "code",
   "execution_count": null,
   "id": "0e12fe31",
   "metadata": {},
   "outputs": [],
   "source": []
  },
  {
   "cell_type": "code",
   "execution_count": null,
   "id": "3b9b7ae8",
   "metadata": {},
   "outputs": [],
   "source": []
  },
  {
   "cell_type": "code",
   "execution_count": null,
   "id": "6f6bd347",
   "metadata": {},
   "outputs": [],
   "source": []
  },
  {
   "cell_type": "code",
   "execution_count": null,
   "id": "570fba0a",
   "metadata": {},
   "outputs": [],
   "source": []
  },
  {
   "cell_type": "code",
   "execution_count": null,
   "id": "a60ec790",
   "metadata": {},
   "outputs": [],
   "source": []
  },
  {
   "cell_type": "code",
   "execution_count": null,
   "id": "87186a39",
   "metadata": {},
   "outputs": [],
   "source": []
  },
  {
   "cell_type": "code",
   "execution_count": null,
   "id": "5bc427dd",
   "metadata": {},
   "outputs": [],
   "source": []
  },
  {
   "cell_type": "code",
   "execution_count": null,
   "id": "790a762d",
   "metadata": {},
   "outputs": [],
   "source": []
  },
  {
   "cell_type": "code",
   "execution_count": null,
   "id": "cc8d5acf",
   "metadata": {},
   "outputs": [],
   "source": []
  },
  {
   "cell_type": "code",
   "execution_count": null,
   "id": "f571ec63",
   "metadata": {},
   "outputs": [],
   "source": []
  },
  {
   "cell_type": "code",
   "execution_count": 5,
   "id": "96fd7ec5",
   "metadata": {},
   "outputs": [
    {
     "name": "stdout",
     "output_type": "stream",
     "text": [
      "File exists: F:\\D-Video\\Python\n",
      "File is readable: F:\\D-Video\\Python\n"
     ]
    }
   ],
   "source": [
    "import os\n",
    "\n",
    "file_path = r\"F:\\D-Video\\Python\"\n",
    "\n",
    "# Check if the file exists\n",
    "if os.path.exists(file_path):\n",
    "    print(f\"File exists: {file_path}\")\n",
    "else:\n",
    "    print(f\"File does not exist: {file_path}\")\n",
    "\n",
    "# Check if the file is readable\n",
    "if os.access(file_path, os.R_OK):\n",
    "    print(f\"File is readable: {file_path}\")\n",
    "else:\n",
    "    print(f\"File is not readable: {file_path}\")\n"
   ]
  },
  {
   "cell_type": "code",
   "execution_count": null,
   "id": "a25eec36",
   "metadata": {},
   "outputs": [],
   "source": []
  },
  {
   "cell_type": "code",
   "execution_count": null,
   "id": "f1c0f1fc",
   "metadata": {},
   "outputs": [],
   "source": []
  },
  {
   "cell_type": "code",
   "execution_count": null,
   "id": "645e5a6d",
   "metadata": {},
   "outputs": [],
   "source": []
  },
  {
   "cell_type": "code",
   "execution_count": null,
   "id": "fb54915b",
   "metadata": {},
   "outputs": [],
   "source": []
  }
 ],
 "metadata": {
  "kernelspec": {
   "display_name": "Python 3 (ipykernel)",
   "language": "python",
   "name": "python3"
  },
  "language_info": {
   "codemirror_mode": {
    "name": "ipython",
    "version": 3
   },
   "file_extension": ".py",
   "mimetype": "text/x-python",
   "name": "python",
   "nbconvert_exporter": "python",
   "pygments_lexer": "ipython3",
   "version": "3.8.18"
  }
 },
 "nbformat": 4,
 "nbformat_minor": 5
}
